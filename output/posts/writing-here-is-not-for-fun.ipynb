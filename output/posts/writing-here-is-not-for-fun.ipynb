{
 "cells": [
  {
   "cell_type": "markdown",
   "metadata": {
    "collapsed": false
   },
   "source": [
    "Here, I'm going to write about conversion of energy. There will be some equations and computations, which is the main reason I've chosen to blog with ipython (or Jupyter) notebook. I'll use Python and Julia for the calculations. It can be as simple as energy requirement to pump a liquid, i.e., $$w=Q\\Delta p$$ where $w$ [J/s] is work , $Q$ [m^3/s] is the volumetric flow rate, and $\\Delta p$ [Pa] is the pressure difference. The calculation is done in Python as "
   ]
  },
  {
   "cell_type": "code",
   "execution_count": 1,
   "metadata": {
    "collapsed": false
   },
   "outputs": [
    {
     "data": {
      "text/plain": [
       "1.0e9"
      ]
     },
     "execution_count": 1,
     "metadata": {},
     "output_type": "execute_result"
    }
   ],
   "source": [
    "Q= 1000. # m^3/s\n",
    "dp= 10e5 # Pa\n",
    "W= Q*dp"
   ]
  },
  {
   "cell_type": "markdown",
   "metadata": {},
   "source": [
    "It was a very simple example. I'll be back with more."
   ]
  }
 ],
 "metadata": {
  "kernelspec": {
   "display_name": "Julia 0.4.0-dev",
   "language": "julia",
   "name": "julia 0.4"
  },
  "language_info": {
   "name": "julia",
   "version": "0.4.0"
  }
 },
 "nbformat": 4,
 "nbformat_minor": 0
}
